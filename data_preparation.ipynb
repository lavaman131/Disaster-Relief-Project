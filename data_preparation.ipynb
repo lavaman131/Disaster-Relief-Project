{
 "cells": [
  {
   "cell_type": "code",
   "execution_count": 1,
   "id": "fae4d247-68bd-483e-97e2-7f88bf738df4",
   "metadata": {},
   "outputs": [],
   "source": [
    "# rasterio \n",
    "from shapely.geometry.polygon import Polygon\n",
    "import shapely.wkt\n",
    "from rasterio.mask import mask\n",
    "import rasterio\n",
    "import rasterio.features\n",
    "import rasterio.warp\n",
    "\n",
    "# other python libraries \n",
    "from PIL import Image\n",
    "from pathlib import Path\n",
    "import os\n",
    "import matplotlib.pyplot as plt\n",
    "import numpy as np\n",
    "from math import floor\n",
    "from tqdm.notebook import tqdm\n",
    "import pandas as pd\n",
    "import json\n",
    "from sklearn.model_selection import train_test_split\n",
    "\n",
    "import warnings\n",
    "warnings.filterwarnings('ignore')"
   ]
  },
  {
   "cell_type": "markdown",
   "id": "3396cea9-b3ff-4744-a117-4d3269023603",
   "metadata": {},
   "source": [
    "# Data Preparation Pipeline\n",
    "### 1. Polygons in images - find where coordinates map to image pixels (GEO-tagged images)\n",
    "### 2. Extract cropped images from polygon data (exract ROI)\n",
    "### 3. Filter for data size\n",
    "### 4. Take labels for img_path & damaged and not damaged \n",
    "### 5. Save imgs as png"
   ]
  },
  {
   "cell_type": "code",
   "execution_count": 2,
   "id": "b08d64ad-82fd-419e-ace5-9e31838e6c56",
   "metadata": {},
   "outputs": [],
   "source": [
    "PATH = Path('/data/disaster')"
   ]
  },
  {
   "cell_type": "code",
   "execution_count": 3,
   "id": "5c63d92f-9610-447b-a50e-10fd609e24d0",
   "metadata": {},
   "outputs": [],
   "source": [
    "p1 = PATH/'labeled/labels'\n",
    "annotation_paths = sorted([x for x in p1.iterdir() if x.is_file()])"
   ]
  },
  {
   "cell_type": "code",
   "execution_count": 4,
   "id": "3055d16c-b029-4e49-904e-cbe537afe9b0",
   "metadata": {},
   "outputs": [],
   "source": [
    "p2 = PATH/'labeled/images'\n",
    "img_paths = sorted([x for x in p2.iterdir() if x.is_file()])"
   ]
  },
  {
   "cell_type": "code",
   "execution_count": 5,
   "id": "e309f3e0-0e44-486e-9a7e-d73904efbe65",
   "metadata": {
    "tags": []
   },
   "outputs": [
    {
     "name": "stdout",
     "output_type": "stream",
     "text": [
      "/data/disaster/labeled/labels/guatemala-volcano_00000003_post_disaster.json\n",
      "/data/disaster/labeled/images/guatemala-volcano_00000003_post_disaster.tif\n",
      "\n",
      "/data/disaster/labeled/labels/guatemala-volcano_00000003_pre_disaster.json\n",
      "/data/disaster/labeled/images/guatemala-volcano_00000003_pre_disaster.tif\n",
      "\n",
      "/data/disaster/labeled/labels/guatemala-volcano_00000004_post_disaster.json\n",
      "/data/disaster/labeled/images/guatemala-volcano_00000004_post_disaster.tif\n",
      "\n"
     ]
    }
   ],
   "source": [
    "# sanity check\n",
    "num = 0\n",
    "for an_path, im_path in zip(annotation_paths,img_paths):\n",
    "    print(an_path)\n",
    "    \n",
    "    print(im_path)\n",
    "    \n",
    "    print()\n",
    "    num += 1\n",
    "    \n",
    "    if num == 3:\n",
    "        break"
   ]
  },
  {
   "cell_type": "code",
   "execution_count": 6,
   "id": "d72aaa86-5f42-40c5-b9c1-367f8658dc97",
   "metadata": {
    "tags": []
   },
   "outputs": [
    {
     "data": {
      "application/vnd.jupyter.widget-view+json": {
       "model_id": "7471b813c77c4c4e88efc510de0076e4",
       "version_major": 2,
       "version_minor": 0
      },
      "text/plain": [
       "current img being cropped:   0%|          | 0/3732 [00:00<?, ?it/s]"
      ]
     },
     "metadata": {},
     "output_type": "display_data"
    }
   ],
   "source": [
    "if not os.path.exists(PATH/'labeled/cropped_imgs'):\n",
    "    os.makedirs(PATH/'labeled/cropped_imgs')\n",
    "\n",
    "img_names = []\n",
    "labels = []\n",
    "\n",
    "for an_path, im_path in zip(tqdm(annotation_paths, desc='current img being cropped', colour='green'), img_paths):\n",
    "    # Opening JSON file\n",
    "    with open(an_path) as f:\n",
    "        # returns JSON object as a dictionary\n",
    "        data = json.load(f)\n",
    "\n",
    "        # get num buildings in 1024x1024 image \n",
    "        num_buildings = len(data['features']['lng_lat'])\n",
    "\n",
    "        for i in range(num_buildings):\n",
    "            # get annotations\n",
    "            annotations = str(data['features']['lng_lat'][i]['wkt'])\n",
    "            # image name\n",
    "            img_name = str('cropped_imgs/' + im_path.stem + '.png')\n",
    "            # damage label\n",
    "            label = str(data['features']['lng_lat'][i]['properties'].get('subtype'))\n",
    "\n",
    "            # get tif image\n",
    "            src = rasterio.open(im_path)\n",
    "            # apply annotation\n",
    "            P = shapely.wkt.loads(annotations)\n",
    "            # mask image\n",
    "            masked_image, out_transform = mask(src, [P], nodata=0) \n",
    "            # add up rgb channels (don't care about specific individual channels)\n",
    "            m = masked_image.sum(axis=0)\n",
    "            # find where non-black pixels\n",
    "            x, y = np.where(m != 0)\n",
    "\n",
    "            # if label is interest\n",
    "            if label != 'None' and label != 'un-classified':\n",
    "                # proceed only if non-black pixels\n",
    "                if len(x) > 0 and len(y) > 0:\n",
    "                    if min(x) != max(x) and min(y) != max(y):\n",
    "                        cropped_image = masked_image[:, min(x):max(x), min(y):max(y)]\n",
    "                        if cropped_image.shape[1] > 25 and cropped_image.shape[2] > 25:\n",
    "                            img_names.append(img_name)\n",
    "                            labels.append(label)\n",
    "                            # add to image arr\n",
    "                            cropped_image = np.uint8(cropped_image)\n",
    "                            cropped_image = cropped_image.transpose((1,2,0))\n",
    "                            img = Image.fromarray(cropped_image, 'RGB')\n",
    "                            img.save(PATH/'labeled/cropped_imgs'/img_name)\n",
    "\n",
    "            # close tif image\n",
    "            src.close()\n",
    "\n",
    "# save labels in pandas df\n",
    "df = pd.DataFrame({'path': img_names, 'label': labels})\n",
    "# df = df.loc[(df['label'] != 'None') & (df['label'] != 'un-classified')]\n",
    "df['label'] = df['label'].replace({'no-damage':0, 'minor-damage':1, 'major-damage':2, 'destroyed':3})\n",
    "df = df.reset_index(drop=True)\n",
    "\n",
    "df_train, df_test = train_test_split(df, test_size=0.2)\n",
    "\n",
    "df.to_csv(PATH/'labeled/data.csv', index=False)\n",
    "df_train.to_csv(PATH/'labeled/train.csv', index=False)\n",
    "df_test.to_csv(PATH/'labeled/test.csv', index=False)"
   ]
  },
  {
   "cell_type": "code",
   "execution_count": 19,
   "id": "54fadc94-3da9-47af-899c-416c598964bf",
   "metadata": {},
   "outputs": [],
   "source": [
    "df = pd.read_csv(PATH/'labeled/data.csv')"
   ]
  },
  {
   "cell_type": "code",
   "execution_count": 20,
   "id": "1cef419c-7ba9-4aeb-96a7-1edd00e1816f",
   "metadata": {},
   "outputs": [
    {
     "data": {
      "text/html": [
       "<div>\n",
       "<style scoped>\n",
       "    .dataframe tbody tr th:only-of-type {\n",
       "        vertical-align: middle;\n",
       "    }\n",
       "\n",
       "    .dataframe tbody tr th {\n",
       "        vertical-align: top;\n",
       "    }\n",
       "\n",
       "    .dataframe thead th {\n",
       "        text-align: right;\n",
       "    }\n",
       "</style>\n",
       "<table border=\"1\" class=\"dataframe\">\n",
       "  <thead>\n",
       "    <tr style=\"text-align: right;\">\n",
       "      <th></th>\n",
       "      <th>path</th>\n",
       "      <th>label</th>\n",
       "    </tr>\n",
       "  </thead>\n",
       "  <tbody>\n",
       "    <tr>\n",
       "      <th>0</th>\n",
       "      <td>cropped_imgs/guatemala-volcano_00000003_post_d...</td>\n",
       "      <td>1</td>\n",
       "    </tr>\n",
       "    <tr>\n",
       "      <th>1</th>\n",
       "      <td>cropped_imgs/guatemala-volcano_00000003_post_d...</td>\n",
       "      <td>1</td>\n",
       "    </tr>\n",
       "    <tr>\n",
       "      <th>2</th>\n",
       "      <td>cropped_imgs/guatemala-volcano_00000004_post_d...</td>\n",
       "      <td>2</td>\n",
       "    </tr>\n",
       "    <tr>\n",
       "      <th>3</th>\n",
       "      <td>cropped_imgs/guatemala-volcano_00000004_post_d...</td>\n",
       "      <td>2</td>\n",
       "    </tr>\n",
       "    <tr>\n",
       "      <th>4</th>\n",
       "      <td>cropped_imgs/guatemala-volcano_00000004_post_d...</td>\n",
       "      <td>2</td>\n",
       "    </tr>\n",
       "  </tbody>\n",
       "</table>\n",
       "</div>"
      ],
      "text/plain": [
       "                                                path  label\n",
       "0  cropped_imgs/guatemala-volcano_00000003_post_d...      1\n",
       "1  cropped_imgs/guatemala-volcano_00000003_post_d...      1\n",
       "2  cropped_imgs/guatemala-volcano_00000004_post_d...      2\n",
       "3  cropped_imgs/guatemala-volcano_00000004_post_d...      2\n",
       "4  cropped_imgs/guatemala-volcano_00000004_post_d...      2"
      ]
     },
     "execution_count": 20,
     "metadata": {},
     "output_type": "execute_result"
    }
   ],
   "source": [
    "df.head()"
   ]
  },
  {
   "cell_type": "code",
   "execution_count": 21,
   "id": "981336e0-8dc3-4493-bbdb-7879f83c2809",
   "metadata": {},
   "outputs": [
    {
     "data": {
      "text/plain": [
       "array([1, 2, 3, 0])"
      ]
     },
     "execution_count": 21,
     "metadata": {},
     "output_type": "execute_result"
    }
   ],
   "source": [
    "df['label'].unique()"
   ]
  },
  {
   "cell_type": "code",
   "execution_count": null,
   "id": "706be15a-70be-46df-954b-8f0825ca5109",
   "metadata": {},
   "outputs": [],
   "source": []
  }
 ],
 "metadata": {
  "kernelspec": {
   "display_name": "pytorch",
   "language": "python",
   "name": "pytorch"
  },
  "language_info": {
   "codemirror_mode": {
    "name": "ipython",
    "version": 3
   },
   "file_extension": ".py",
   "mimetype": "text/x-python",
   "name": "python",
   "nbconvert_exporter": "python",
   "pygments_lexer": "ipython3",
   "version": "3.8.8"
  }
 },
 "nbformat": 4,
 "nbformat_minor": 5
}
