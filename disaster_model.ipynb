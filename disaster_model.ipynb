{
 "cells": [
  {
   "cell_type": "code",
   "execution_count": 1,
   "id": "2e9f8e97-6fca-4ec9-8fc1-6dd055746bd3",
   "metadata": {},
   "outputs": [],
   "source": [
    "# torch imports\n",
    "import torch\n",
    "import torchvision\n",
    "import torchvision.transforms as transforms\n",
    "from torch.utils.data import Dataset, DataLoader\n",
    "from torchvision.datasets import ImageFolder\n",
    "import torch.autograd as autograd\n",
    "from torch import Tensor\n",
    "import torch.nn as nn\n",
    "import torch.nn.functional as F\n",
    "import torch.optim as optim\n",
    "from torch.jit import script, trace\n",
    "from fastai.vision.all import *\n",
    "\n",
    "# other python libraries \n",
    "from tqdm.notebook import tqdm\n",
    "from pathlib import Path\n",
    "import matplotlib.pyplot as plt\n",
    "import numpy as np\n",
    "from math import floor\n",
    "import pandas as pd\n",
    "import json\n",
    "from PIL import Image"
   ]
  },
  {
   "cell_type": "code",
   "execution_count": 2,
   "id": "3c05d085-868a-458d-8d50-5176193cb167",
   "metadata": {},
   "outputs": [
    {
     "name": "stdout",
     "output_type": "stream",
     "text": [
      "torch version is: 1.7.1\n",
      "GPU is available\n",
      "CUDA version is: 11.0\n"
     ]
    }
   ],
   "source": [
    "print(f'torch version is: {torch.__version__}')\n",
    "\n",
    "if torch.cuda.is_available():\n",
    "    print('GPU is available')\n",
    "else:\n",
    "    print('CPU is available')\n",
    "    \n",
    "print(f'CUDA version is: {torch.version.cuda}')"
   ]
  },
  {
   "cell_type": "code",
   "execution_count": 3,
   "id": "3775b344-1f39-46e1-bf85-304b68050342",
   "metadata": {},
   "outputs": [],
   "source": [
    "bs = 64"
   ]
  },
  {
   "cell_type": "code",
   "execution_count": 4,
   "id": "f95ee4aa-974e-4775-aa3b-447b1bbd5942",
   "metadata": {},
   "outputs": [],
   "source": [
    "PATH = Path('/data/disaster/labeled')"
   ]
  },
  {
   "cell_type": "code",
   "execution_count": 5,
   "id": "4033b66d-fe40-4ffe-9383-bf34858954c9",
   "metadata": {},
   "outputs": [],
   "source": [
    "# define preprocessing \n",
    "transform = transforms.Compose([\n",
    "    transforms.Resize((25,25)),\n",
    "    transforms.ToTensor(),\n",
    "    transforms.Normalize((0.485, 0.456, 0.406), (0.229, 0.224, 0.225)),\n",
    "])"
   ]
  },
  {
   "cell_type": "code",
   "execution_count": 6,
   "id": "0c9d9ddb-55f9-4e19-9c6b-30a7737954dd",
   "metadata": {},
   "outputs": [],
   "source": [
    "class ImageLoader():\n",
    "    def __init__(self, root_dir, csv_file, transform=None):\n",
    "        self.root_dir = root_dir\n",
    "        self.annotations = pd.read_csv((Path(self.root_dir)).joinpath(csv_file))\n",
    "        self.transform = transform\n",
    "    \n",
    "    def __len__(self):\n",
    "        return len(self.annotations)\n",
    "    \n",
    "    def __getitem__(self, index):\n",
    "        img_path = (Path(self.root_dir)).joinpath(self.annotations.iloc[index, 0])\n",
    "        image = Image.open(img_path)\n",
    "        y_label = torch.tensor(int(self.annotations.iloc[index, 1]))\n",
    "        \n",
    "        if self.transform:\n",
    "            image = self.transform(image)\n",
    "            \n",
    "        return image, y_label\n",
    "            \n",
    "    \"Inherit from this to have all attr accesses in `self._xtra` passed down to `self.default`\"\n",
    "    _default='default'\n",
    "    def _component_attr_filter(self,k):\n",
    "        if k.startswith('__') or k in ('_xtra',self._default): return False\n",
    "        xtra = getattr(self,'_xtra',None)\n",
    "        return xtra is None or k in xtra\n",
    "    def _dir(self): return [k for k in dir(getattr(self,self._default)) if self._component_attr_filter(k)]\n",
    "    def __getattr__(self,k):\n",
    "        if self._component_attr_filter(k):\n",
    "            attr = getattr(self,self._default,None)\n",
    "            if attr is not None: return getattr(attr,k)\n",
    "        raise AttributeError(k)\n",
    "    def __dir__(self): return custom_dir(self,self._dir())\n",
    "#     def __getstate__(self): return self.__dict__\n",
    "    def __setstate__(self,data): self.__dict__.update(data)\n",
    "    \n",
    "    def delegate_attr(self, k, to):\n",
    "        \"Use in `__getattr__` to delegate to attr `to` without inheriting from `GetAttr`\"\n",
    "        if k.startswith('_') or k==to: raise AttributeError(k)\n",
    "        try: return getattr(getattr(self,to), k)\n",
    "        except AttributeError: raise AttributeError(k) from None"
   ]
  },
  {
   "cell_type": "code",
   "execution_count": 7,
   "id": "c11105fa-9eda-4c5c-9408-f8afbe857e13",
   "metadata": {},
   "outputs": [],
   "source": [
    "train_set = ImageLoader(PATH, 'train.csv', transform=transform)\n",
    "test_set = ImageLoader(PATH, 'test.csv', transform=transform)"
   ]
  },
  {
   "cell_type": "code",
   "execution_count": 8,
   "id": "bb752da4-e310-425c-a52e-e088295c8d18",
   "metadata": {},
   "outputs": [
    {
     "data": {
      "text/plain": [
       "(38694, 9674)"
      ]
     },
     "execution_count": 8,
     "metadata": {},
     "output_type": "execute_result"
    }
   ],
   "source": [
    "len(train_set), len(test_set)"
   ]
  },
  {
   "cell_type": "code",
   "execution_count": 9,
   "id": "2ad360c2-dcc5-4024-97f8-965bec992220",
   "metadata": {},
   "outputs": [
    {
     "data": {
      "text/plain": [
       "torch.Size([3, 25, 25])"
      ]
     },
     "execution_count": 9,
     "metadata": {},
     "output_type": "execute_result"
    }
   ],
   "source": [
    "train_set[0][0].shape"
   ]
  },
  {
   "cell_type": "code",
   "execution_count": 10,
   "id": "7a28b312-445c-4a10-becc-b7c8ea736c2a",
   "metadata": {},
   "outputs": [],
   "source": [
    "train_loader = DataLoader(train_set, batch_size = bs, shuffle = True)\n",
    "\n",
    "test_loader = DataLoader(train_set, batch_size = bs, shuffle = True)"
   ]
  },
  {
   "cell_type": "code",
   "execution_count": 11,
   "id": "6b6fca4f-0948-4e94-9ee9-412da603f5e6",
   "metadata": {},
   "outputs": [],
   "source": [
    "# use fastai\n",
    "data = DataLoaders(train_loader, test_loader)"
   ]
  },
  {
   "cell_type": "code",
   "execution_count": 12,
   "id": "088ce915-0787-41b1-a7bc-01e37ef012b3",
   "metadata": {},
   "outputs": [],
   "source": [
    "def conv_output(n_in, p, k, s):\n",
    "    '''\n",
    "    n_in: number of input features \n",
    "    n_out: number of output features\n",
    "    k: convolution kernel size\n",
    "    p: convolution padding size\n",
    "    s: convolution stride size\n",
    "    '''\n",
    "    n_out = floor((n_in + 2*p - k) / s) + 1\n",
    "    return n_out"
   ]
  },
  {
   "cell_type": "code",
   "execution_count": 13,
   "id": "4e088367-c18a-4fef-98de-0c28c8c54491",
   "metadata": {},
   "outputs": [],
   "source": [
    "# img_size = (64, 3, 25, 25)\n",
    "\n",
    "# Identity function 1, 3, 25, 25\n",
    "# Convolution 1, 6, 21, 21\n",
    "# Max Pooling 1, 6, 10, 10\n",
    "# Convolution 1, 12, 6, 6\n",
    "# Max Pooling 1, 12, 3, 3"
   ]
  },
  {
   "cell_type": "code",
   "execution_count": 14,
   "id": "2c694a5c-e20e-4a90-9407-17135beaeb1d",
   "metadata": {},
   "outputs": [],
   "source": [
    "class Net(nn.Module):\n",
    "    def __init__(self):\n",
    "        super(Net, self).__init__()\n",
    "        self.conv1 = nn.Conv2d(in_channels=3, out_channels=6, kernel_size=5) \n",
    "        self.pool = nn.MaxPool2d(kernel_size=(2,2))\n",
    "        self.conv2 = nn.Conv2d(in_channels=6, out_channels=12, kernel_size=5)\n",
    "        self.fc1 = nn.Linear(in_features=12 * 3 * 3, out_features=100)\n",
    "        self.fc2 = nn.Linear(in_features=100, out_features=50)\n",
    "        self.fc3 = nn.Linear(in_features=50, out_features=4)\n",
    "        \n",
    "        \n",
    "    def forward(self, x):\n",
    "        x = self.pool(F.relu(self.conv1(x)))\n",
    "        x = self.pool(F.relu(self.conv2(x)))\n",
    "        x = torch.flatten(x, 1)\n",
    "        x = F.relu(self.fc1(x))\n",
    "        x = F.relu(self.fc2(x))\n",
    "        x = self.fc3(x)\n",
    "        return x"
   ]
  },
  {
   "cell_type": "code",
   "execution_count": 15,
   "id": "af26137f-25d0-4099-82cc-2b469483b10e",
   "metadata": {},
   "outputs": [],
   "source": [
    "net = Net()"
   ]
  },
  {
   "cell_type": "code",
   "execution_count": 16,
   "id": "12761b5c-f9d1-4f6d-b478-3cffeadb7063",
   "metadata": {},
   "outputs": [
    {
     "data": {
      "text/plain": [
       "Net(\n",
       "  (conv1): Conv2d(3, 6, kernel_size=(5, 5), stride=(1, 1))\n",
       "  (pool): MaxPool2d(kernel_size=(2, 2), stride=(2, 2), padding=0, dilation=1, ceil_mode=False)\n",
       "  (conv2): Conv2d(6, 12, kernel_size=(5, 5), stride=(1, 1))\n",
       "  (fc1): Linear(in_features=108, out_features=100, bias=True)\n",
       "  (fc2): Linear(in_features=100, out_features=50, bias=True)\n",
       "  (fc3): Linear(in_features=50, out_features=4, bias=True)\n",
       ")"
      ]
     },
     "execution_count": 16,
     "metadata": {},
     "output_type": "execute_result"
    }
   ],
   "source": [
    "net"
   ]
  },
  {
   "cell_type": "code",
   "execution_count": 17,
   "id": "7af31fdb-b153-465e-b933-c935cd038022",
   "metadata": {
    "tags": []
   },
   "outputs": [
    {
     "name": "stdout",
     "output_type": "stream",
     "text": [
      "10\n",
      "torch.Size([6, 3, 5, 5])\n"
     ]
    }
   ],
   "source": [
    "params = list(net.parameters())\n",
    "print(len(params))\n",
    "print(params[0].size())"
   ]
  },
  {
   "cell_type": "code",
   "execution_count": 18,
   "id": "d91870e0-ffdc-4a87-b6d8-4dbee9a72473",
   "metadata": {},
   "outputs": [],
   "source": [
    "# pytorch training loop\n",
    "def train(EPOCHS, criterion=nn.CrossEntropyLoss(), optimizer=optim.SGD(net.parameters(), lr=0.01)):\n",
    "    \n",
    "    device = torch.device('cuda') if torch.cuda.is_available() else torch.device('cpu')\n",
    "    net.to(device)\n",
    "    \n",
    "    train_loss = 0.0\n",
    "    \n",
    "    for epoch in range(1, EPOCHS+1):\n",
    "        for (inputs, targets) in tqdm(train_loader, desc='train', colour='green'): \n",
    "            inputs, targets = inputs.to(device), targets.to(device)\n",
    "            # clear the gradients\n",
    "            optimizer.zero_grad()\n",
    "            # compute the model output\n",
    "            pred = net(inputs)\n",
    "            # calculate loss\n",
    "            loss = criterion(pred, targets)\n",
    "            # credit assignment\n",
    "            loss.backward()\n",
    "            # update model weights\n",
    "            optimizer.step()\n",
    "            train_loss = loss.item() * inputs.size(0)\n",
    "            \n",
    "        with torch.no_grad():\n",
    "            for (inputs, targets) in tqdm(test_loader, desc='test', colour='green'):\n",
    "                inputs, targets = inputs.to(device), targets.to(device) \n",
    "                # compute the model output\n",
    "                pred = net(inputs)\n",
    "                # calculate loss\n",
    "                loss = criterion(pred, targets)\n",
    "                test_loss = loss.item() * inputs.size(0)\n",
    "        \n",
    "        print(f'Epoch {epoch} / {EPOCHS} \\t\\t Training Loss: {round(train_loss / len(train_loader),3)} \\t\\t Test Loss: {round(test_loss / len(test_loader),3)}')"
   ]
  },
  {
   "cell_type": "code",
   "execution_count": 19,
   "id": "eb799db9-a694-436a-91b2-03fbbf5887b8",
   "metadata": {},
   "outputs": [],
   "source": [
    "learn = Learner(data, net, loss_func=nn.CrossEntropyLoss(), opt_func=Adam, metrics=accuracy, \n",
    "                cbs=ShowGraphCallback()) "
   ]
  },
  {
   "cell_type": "code",
   "execution_count": 20,
   "id": "e6c59f3f-8cdb-4a36-829b-68b4bfd37b4f",
   "metadata": {},
   "outputs": [
    {
     "data": {
      "text/html": [
       "<table border=\"1\" class=\"dataframe\">\n",
       "  <thead>\n",
       "    <tr style=\"text-align: left;\">\n",
       "      <th>epoch</th>\n",
       "      <th>train_loss</th>\n",
       "      <th>valid_loss</th>\n",
       "      <th>accuracy</th>\n",
       "      <th>time</th>\n",
       "    </tr>\n",
       "  </thead>\n",
       "  <tbody>\n",
       "    <tr>\n",
       "      <td>0</td>\n",
       "      <td>0.654625</td>\n",
       "      <td>0.602263</td>\n",
       "      <td>0.794361</td>\n",
       "      <td>00:33</td>\n",
       "    </tr>\n",
       "    <tr>\n",
       "      <td>1</td>\n",
       "      <td>0.399399</td>\n",
       "      <td>0.396788</td>\n",
       "      <td>0.855378</td>\n",
       "      <td>00:33</td>\n",
       "    </tr>\n",
       "  </tbody>\n",
       "</table>"
      ],
      "text/plain": [
       "<IPython.core.display.HTML object>"
      ]
     },
     "metadata": {},
     "output_type": "display_data"
    },
    {
     "data": {
      "image/png": "[encoded data removed]",
      "text/plain": [
       "<Figure size 432x288 with 1 Axes>"
      ]
     },
     "metadata": {},
     "output_type": "display_data"
    }
   ],
   "source": [
    "# fastai training loop\n",
    "learn.fit_one_cycle(2, 0.01)"
   ]
  },
  {
   "cell_type": "code",
   "execution_count": null,
   "id": "b550aeac-fdae-487b-ab37-d31d44dae446",
   "metadata": {},
   "outputs": [],
   "source": []
  }
 ],
 "metadata": {
  "kernelspec": {
   "display_name": "pytorch",
   "language": "python",
   "name": "pytorch"
  },
  "language_info": {
   "codemirror_mode": {
    "name": "ipython",
    "version": 3
   },
   "file_extension": ".py",
   "mimetype": "text/x-python",
   "name": "python",
   "nbconvert_exporter": "python",
   "pygments_lexer": "ipython3",
   "version": "3.8.8"
  }
 },
 "nbformat": 4,
 "nbformat_minor": 5
}
